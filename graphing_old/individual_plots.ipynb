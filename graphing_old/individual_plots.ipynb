{
 "cells": [
  {
   "cell_type": "code",
   "execution_count": null,
   "metadata": {},
   "outputs": [],
   "source": [
    "%matplotlib inline\n",
    "import pandas\n",
    "import os\n",
    "import matplotlib.pyplot as plt\n",
    "import re\n",
    "import seaborn as sns\n",
    "from matplotlib.ticker import MaxNLocator"
   ]
  },
  {
   "cell_type": "code",
   "execution_count": null,
   "metadata": {},
   "outputs": [],
   "source": [
    "path_to_log = \"./../trial21_target8.csv\"\n",
    "df = pandas.read_csv(path_to_log)\n",
    "df = df[df[\"model_name\"].apply(lambda x: \"RandomForest\" in x)]\n",
    "df.head()"
   ]
  },
  {
   "cell_type": "code",
   "execution_count": 3,
   "metadata": {},
   "outputs": [],
   "source": [
    "df[\"model_name\"] = df[\"model_name\"].apply(lambda x: x.split(\"_\")[1])"
   ]
  },
  {
   "cell_type": "code",
   "execution_count": 4,
   "metadata": {},
   "outputs": [],
   "source": [
    "df[\"model_name\"] = df[\"model_name\"].apply(lambda x: re.split('(\\d+)',x)[-2])"
   ]
  },
  {
   "cell_type": "code",
   "execution_count": 5,
   "metadata": {},
   "outputs": [],
   "source": [
    "df[\"model_name\"]=df[\"model_name\"].astype(\"int8\")"
   ]
  },
  {
   "cell_type": "code",
   "execution_count": 15,
   "metadata": {},
   "outputs": [
    {
     "data": {
      "text/plain": [
       "([<matplotlib.axis.XTick at 0x7f6d9dbfb3a0>,\n",
       "  <matplotlib.axis.XTick at 0x7f6d9dbfb1f0>,\n",
       "  <matplotlib.axis.XTick at 0x7f6d9da03250>,\n",
       "  <matplotlib.axis.XTick at 0x7f6d9da3e4f0>,\n",
       "  <matplotlib.axis.XTick at 0x7f6d9da3edc0>,\n",
       "  <matplotlib.axis.XTick at 0x7f6d9da3e730>,\n",
       "  <matplotlib.axis.XTick at 0x7f6d9d9cf640>,\n",
       "  <matplotlib.axis.XTick at 0x7f6d9d9b20a0>,\n",
       "  <matplotlib.axis.XTick at 0x7f6d9d9b2bb0>,\n",
       "  <matplotlib.axis.XTick at 0x7f6d9d94e340>,\n",
       "  <matplotlib.axis.XTick at 0x7f6d9dabef40>,\n",
       "  <matplotlib.axis.XTick at 0x7f6d9d9b2e80>,\n",
       "  <matplotlib.axis.XTick at 0x7f6d9da03850>,\n",
       "  <matplotlib.axis.XTick at 0x7f6d9cfef670>,\n",
       "  <matplotlib.axis.XTick at 0x7f6d9cfefca0>,\n",
       "  <matplotlib.axis.XTick at 0x7f6d9cff8430>,\n",
       "  <matplotlib.axis.XTick at 0x7f6d9cff8b80>,\n",
       "  <matplotlib.axis.XTick at 0x7f6d9da03400>,\n",
       "  <matplotlib.axis.XTick at 0x7f6d9cff8b50>,\n",
       "  <matplotlib.axis.XTick at 0x7f6d9cf810d0>,\n",
       "  <matplotlib.axis.XTick at 0x7f6d9cf81820>],\n",
       " [Text(0, 0, ''),\n",
       "  Text(0, 0, ''),\n",
       "  Text(0, 0, ''),\n",
       "  Text(0, 0, ''),\n",
       "  Text(0, 0, ''),\n",
       "  Text(0, 0, ''),\n",
       "  Text(0, 0, ''),\n",
       "  Text(0, 0, ''),\n",
       "  Text(0, 0, ''),\n",
       "  Text(0, 0, ''),\n",
       "  Text(0, 0, ''),\n",
       "  Text(0, 0, ''),\n",
       "  Text(0, 0, ''),\n",
       "  Text(0, 0, ''),\n",
       "  Text(0, 0, ''),\n",
       "  Text(0, 0, ''),\n",
       "  Text(0, 0, ''),\n",
       "  Text(0, 0, ''),\n",
       "  Text(0, 0, ''),\n",
       "  Text(0, 0, ''),\n",
       "  Text(0, 0, '')])"
      ]
     },
     "execution_count": 15,
     "metadata": {},
     "output_type": "execute_result"
    },
    {
     "data": {
      "image/png": "[encoded data removed]",
      "text/plain": [
       "<Figure size 432x288 with 1 Axes>"
      ]
     },
     "metadata": {
      "needs_background": "light"
     },
     "output_type": "display_data"
    }
   ],
   "source": [
    "fig = plt.figure()\n",
    "ax1 = fig.add_subplot()\n",
    "sns.lineplot(ax=ax1, data=df, x=\"model_name\", y=\"algorithmic_capacity\")\n",
    "sns.lineplot(ax=ax1, data=df, x=\"model_name\", y=\"entropic_expressivity\")\n",
    "sns.lineplot(ax=ax1, data=df, x=\"model_name\", y=\"algorithmic_bias\")\n",
    "ax1.legend({\"algorithmic_capacity\":1, \"entropic_expressivity\":2,\"algorithmic_bias\":3})\n",
    "ax1.set_title(\"Random Forest\")\n",
    "ax1.set_xlabel(\"number of estimators\")\n",
    "ax1.set_ylabel(\"\")\n",
    "plt.xticks(df[\"model_name\"])\n"
   ]
  },
  {
   "cell_type": "code",
   "execution_count": 7,
   "metadata": {},
   "outputs": [
    {
     "data": {
      "text/html": [
       "<div>\n",
       "<style scoped>\n",
       "    .dataframe tbody tr th:only-of-type {\n",
       "        vertical-align: middle;\n",
       "    }\n",
       "\n",
       "    .dataframe tbody tr th {\n",
       "        vertical-align: top;\n",
       "    }\n",
       "\n",
       "    .dataframe thead th {\n",
       "        text-align: right;\n",
       "    }\n",
       "</style>\n",
       "<table border=\"1\" class=\"dataframe\">\n",
       "  <thead>\n",
       "    <tr style=\"text-align: right;\">\n",
       "      <th></th>\n",
       "      <th>Unnamed: 0</th>\n",
       "      <th>model_name</th>\n",
       "      <th>algorithmic_bias</th>\n",
       "      <th>entropic_expressivity</th>\n",
       "      <th>algorithmic_capacity</th>\n",
       "    </tr>\n",
       "  </thead>\n",
       "  <tbody>\n",
       "    <tr>\n",
       "      <th>48</th>\n",
       "      <td>44</td>\n",
       "      <td>1</td>\n",
       "      <td>0.007312</td>\n",
       "      <td>9.514515</td>\n",
       "      <td>7.210987</td>\n",
       "    </tr>\n",
       "    <tr>\n",
       "      <th>49</th>\n",
       "      <td>30</td>\n",
       "      <td>10</td>\n",
       "      <td>-0.023087</td>\n",
       "      <td>8.969951</td>\n",
       "      <td>6.763842</td>\n",
       "    </tr>\n",
       "    <tr>\n",
       "      <th>50</th>\n",
       "      <td>53</td>\n",
       "      <td>11</td>\n",
       "      <td>-0.001888</td>\n",
       "      <td>9.186594</td>\n",
       "      <td>6.979987</td>\n",
       "    </tr>\n",
       "    <tr>\n",
       "      <th>51</th>\n",
       "      <td>12</td>\n",
       "      <td>12</td>\n",
       "      <td>-0.015088</td>\n",
       "      <td>8.964955</td>\n",
       "      <td>6.792854</td>\n",
       "    </tr>\n",
       "    <tr>\n",
       "      <th>52</th>\n",
       "      <td>20</td>\n",
       "      <td>13</td>\n",
       "      <td>0.002112</td>\n",
       "      <td>9.182475</td>\n",
       "      <td>6.993076</td>\n",
       "    </tr>\n",
       "  </tbody>\n",
       "</table>\n",
       "</div>"
      ],
      "text/plain": [
       "    Unnamed: 0  model_name  algorithmic_bias  entropic_expressivity  \\\n",
       "48          44           1          0.007312               9.514515   \n",
       "49          30          10         -0.023087               8.969951   \n",
       "50          53          11         -0.001888               9.186594   \n",
       "51          12          12         -0.015088               8.964955   \n",
       "52          20          13          0.002112               9.182475   \n",
       "\n",
       "    algorithmic_capacity  \n",
       "48              7.210987  \n",
       "49              6.763842  \n",
       "50              6.979987  \n",
       "51              6.792854  \n",
       "52              6.993076  "
      ]
     },
     "execution_count": 7,
     "metadata": {},
     "output_type": "execute_result"
    }
   ],
   "source": []
  },
  {
   "cell_type": "code",
   "execution_count": null,
   "metadata": {},
   "outputs": [],
   "source": []
  }
 ],
 "metadata": {
  "interpreter": {
   "hash": "36cf16204b8548560b1c020c4e8fb5b57f0e4c58016f52f2d4be01e192833930"
  },
  "kernelspec": {
   "display_name": "Python 3.9.12 64-bit",
   "language": "python",
   "name": "python3"
  },
  "language_info": {
   "codemirror_mode": {
    "name": "ipython",
    "version": 3
   },
   "file_extension": ".py",
   "mimetype": "text/x-python",
   "name": "python",
   "nbconvert_exporter": "python",
   "pygments_lexer": "ipython3",
   "version": "3.9.12"
  },
  "orig_nbformat": 4
 },
 "nbformat": 4,
 "nbformat_minor": 2
}
