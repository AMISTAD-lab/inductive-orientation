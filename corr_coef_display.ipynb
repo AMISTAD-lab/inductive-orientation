{
 "cells": [
  {
   "cell_type": "code",
   "execution_count": null,
   "metadata": {},
   "outputs": [],
   "source": [
    "import pandas as pd\n",
    "import seaborn as sns\n",
    "import matplotlib.pyplot as plt\n",
    "import json\n",
    "\n",
    "# Step 1: Read the JSONL file\n",
    "jsonl_file = 'correlation_coefficients.jsonl'  # Path to your JSONL file\n",
    "data = []\n",
    "\n",
    "# Load JSONL file\n",
    "with open(jsonl_file, 'r') as file:\n",
    "    for line in file:\n",
    "        data.append(json.loads(line))\n",
    "\n",
    "# Convert to DataFrame\n",
    "df = pd.DataFrame(data)\n",
    "\n",
    "# Step 2: Pivot DataFrame to create a similarity matrix\n",
    "similarity_matrix = df.pivot(index='item1', columns='item2', values='similarity')\n",
    "\n",
    "# Step 3: Create a labeled heatmap using seaborn\n",
    "plt.figure(figsize=(8, 6))\n",
    "heatmap = sns.heatmap(similarity_matrix, annot=True, cmap='coolwarm', linewidths=0.5)\n",
    "\n",
    "# Step 4: Customize labels\n",
    "plt.title('Similarity Heatmap', fontsize=16)\n",
    "plt.xlabel('Item 2', fontsize=12)\n",
    "plt.ylabel('Item 1', fontsize=12)\n",
    "\n",
    "# Show the heatmap\n",
    "plt.show()"
   ]
  }
 ],
 "metadata": {
  "language_info": {
   "name": "python"
  }
 },
 "nbformat": 4,
 "nbformat_minor": 2
}
